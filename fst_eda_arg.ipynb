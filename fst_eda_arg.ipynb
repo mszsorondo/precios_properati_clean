{
 "cells": [
  {
   "cell_type": "markdown",
   "metadata": {},
   "source": [
    "# Analisis exploratorio de datos, Properati_ar"
   ]
  },
  {
   "cell_type": "markdown",
   "metadata": {},
   "source": [
    "***Tabla de contenidos***\n",
    "1. [Vista previa y filtrados esenciales](#s1)\n",
    "2. [Tipos de datos por columna y manejo de datos faltantes](#s2)"
   ]
  },
  {
   "cell_type": "markdown",
   "metadata": {},
   "source": [
    "## 1. Vista previa y filtrados esenciales <a id=\"s1\"></a>"
   ]
  },
  {
   "cell_type": "code",
   "execution_count": 3,
   "metadata": {
    "pycharm": {
     "name": "#%%\n"
    }
   },
   "outputs": [],
   "source": [
    "import pandas as pd"
   ]
  },
  {
   "cell_type": "code",
   "execution_count": 5,
   "metadata": {},
   "outputs": [],
   "source": [
    "df_crudo = pd.read_csv(\"ar_properties.csv\")"
   ]
  },
  {
   "cell_type": "code",
   "execution_count": 16,
   "metadata": {},
   "outputs": [
    {
     "data": {
      "text/plain": [
       "Index(['id', 'ad_type', 'start_date', 'end_date', 'created_on', 'lat', 'lon',\n",
       "       'l1', 'l2', 'l3', 'l4', 'l5', 'l6', 'rooms', 'bedrooms', 'bathrooms',\n",
       "       'surface_total', 'surface_covered', 'price', 'currency', 'price_period',\n",
       "       'title', 'description', 'property_type', 'operation_type'],\n",
       "      dtype='object')"
      ]
     },
     "execution_count": 16,
     "metadata": {},
     "output_type": "execute_result"
    }
   ],
   "source": [
    "df_crudo.columns"
   ]
  },
  {
   "cell_type": "markdown",
   "metadata": {},
   "source": [
    "Primero que nada será necesario filtrar por moneda... La alta inestabilidad del peso argentino hace que el analisis se complique demasiado. Es por eso que utilizaremos las propiedades publicadas en dolares."
   ]
  },
  {
   "cell_type": "code",
   "execution_count": 17,
   "metadata": {},
   "outputs": [
    {
     "data": {
      "text/plain": [
       "USD    726918\n",
       "ARS    220873\n",
       "UYU      2112\n",
       "PEN        27\n",
       "Name: currency, dtype: int64"
      ]
     },
     "execution_count": 17,
     "metadata": {},
     "output_type": "execute_result"
    }
   ],
   "source": [
    "df_crudo[\"currency\"].value_counts()"
   ]
  },
  {
   "cell_type": "code",
   "execution_count": 22,
   "metadata": {},
   "outputs": [],
   "source": [
    "df_dolar = df_crudo[df_crudo[\"currency\"]==\"USD\"]"
   ]
  },
  {
   "cell_type": "code",
   "execution_count": 39,
   "metadata": {},
   "outputs": [],
   "source": [
    "df_dolar_reordered = df_dolar[['id','operation_type',\n",
    "                               'l1', 'l2', 'l3', 'l4', 'l5', 'l6'\n",
    "                               ,'lat', 'lon', \n",
    "                               'price', 'property_type',\n",
    "                               'rooms','bedrooms', 'bathrooms',\n",
    "                               'start_date', 'end_date', 'created_on',\n",
    "                               'surface_total', 'surface_covered', 'price_period',\n",
    "                               'title', 'description', 'ad_type']]"
   ]
  },
  {
   "cell_type": "code",
   "execution_count": 40,
   "metadata": {},
   "outputs": [
    {
     "data": {
      "text/plain": [
       "Argentina         710629\n",
       "Uruguay            15611\n",
       "Estados Unidos       638\n",
       "Brasil                40\n",
       "Name: l1, dtype: int64"
      ]
     },
     "execution_count": 40,
     "metadata": {},
     "output_type": "execute_result"
    }
   ],
   "source": [
    "df_dolar_reordered[\"l1\"].value_counts()"
   ]
  },
  {
   "cell_type": "markdown",
   "metadata": {},
   "source": [
    "Es necesario deshacerse de las propiedades ubicadas en paises que no sean la Argentina."
   ]
  },
  {
   "cell_type": "code",
   "execution_count": 41,
   "metadata": {},
   "outputs": [],
   "source": [
    "df_dolar_reordered_ar = df_dolar_reordered[df_dolar_reordered[\"l1\"]==\"Argentina\"]"
   ]
  },
  {
   "cell_type": "code",
   "execution_count": 57,
   "metadata": {},
   "outputs": [
    {
     "data": {
      "text/plain": [
       "Venta                689144\n",
       "Alquiler              14770\n",
       "Alquiler temporal      6715\n",
       "Name: operation_type, dtype: int64"
      ]
     },
     "execution_count": 57,
     "metadata": {},
     "output_type": "execute_result"
    }
   ],
   "source": [
    "df_dolar_reordered_ar[\"operation_type\"].value_counts()"
   ]
  },
  {
   "cell_type": "markdown",
   "metadata": {},
   "source": [
    "Además, dada la baja cantidad de alquileres en dólares <font color=\"red\">se tendrán solo en cuenta las propiedades en venta</font>."
   ]
  },
  {
   "cell_type": "code",
   "execution_count": 58,
   "metadata": {},
   "outputs": [],
   "source": [
    "df_dolar_reordered_ar_venta = df_dolar_reordered_ar[df_dolar_reordered_ar['operation_type']==\"Venta\"]"
   ]
  },
  {
   "cell_type": "code",
   "execution_count": 63,
   "metadata": {},
   "outputs": [
    {
     "data": {
      "text/plain": [
       "(689144, 24)"
      ]
     },
     "execution_count": 63,
     "metadata": {},
     "output_type": "execute_result"
    }
   ],
   "source": [
    "df_dolar_reordered_ar_venta.shape"
   ]
  },
  {
   "cell_type": "markdown",
   "metadata": {},
   "source": [
    "## 2. Tipos de datos por columna y manejo de datos faltantes <a id=\"s2\"></a>"
   ]
  },
  {
   "cell_type": "markdown",
   "metadata": {},
   "source": [
    "Vamos a renombrar el dataframe en cada seccion nueva para simplificar la lectura..."
   ]
  },
  {
   "cell_type": "code",
   "execution_count": 72,
   "metadata": {},
   "outputs": [],
   "source": [
    "df_2 = df_dolar_reordered_ar_venta.drop(columns=[\"l1\"])"
   ]
  },
  {
   "cell_type": "code",
   "execution_count": 74,
   "metadata": {},
   "outputs": [
    {
     "data": {
      "text/plain": [
       "id                  object\n",
       "operation_type      object\n",
       "l2                  object\n",
       "l3                  object\n",
       "l4                  object\n",
       "l5                  object\n",
       "l6                 float64\n",
       "lat                float64\n",
       "lon                float64\n",
       "price              float64\n",
       "property_type       object\n",
       "rooms              float64\n",
       "bedrooms           float64\n",
       "bathrooms          float64\n",
       "start_date          object\n",
       "end_date            object\n",
       "created_on          object\n",
       "surface_total      float64\n",
       "surface_covered    float64\n",
       "price_period        object\n",
       "title               object\n",
       "description         object\n",
       "ad_type             object\n",
       "dtype: object"
      ]
     },
     "execution_count": 74,
     "metadata": {},
     "output_type": "execute_result"
    }
   ],
   "source": [
    "df_2.dtypes"
   ]
  },
  {
   "cell_type": "code",
   "execution_count": 76,
   "metadata": {},
   "outputs": [
    {
     "data": {
      "text/plain": [
       "id                      0\n",
       "operation_type          0\n",
       "l2                      0\n",
       "l3                  37614\n",
       "l4                 533846\n",
       "l5                 686258\n",
       "l6                 689144\n",
       "lat                101672\n",
       "lon                102737\n",
       "price                   0\n",
       "property_type           0\n",
       "rooms              356733\n",
       "bedrooms           433277\n",
       "bathrooms          153710\n",
       "start_date              0\n",
       "end_date                0\n",
       "created_on              0\n",
       "surface_total      395424\n",
       "surface_covered    415427\n",
       "price_period       456574\n",
       "title                  13\n",
       "description             9\n",
       "ad_type                 0\n",
       "dtype: int64"
      ]
     },
     "execution_count": 76,
     "metadata": {},
     "output_type": "execute_result"
    }
   ],
   "source": [
    "df_2.isnull().sum()"
   ]
  },
  {
   "cell_type": "code",
   "execution_count": 83,
   "metadata": {},
   "outputs": [
    {
     "data": {
      "text/plain": [
       "Mar del Plata       130129\n",
       "Rosario              39979\n",
       "La Plata             26869\n",
       "Tigre                26445\n",
       "Palermo              21656\n",
       "                     ...  \n",
       "Hasenkamp                1\n",
       "San Eduardo              1\n",
       "Villa Aberastain         1\n",
       "Tolhuin                  1\n",
       "Berrotarán               1\n",
       "Name: l3, Length: 1020, dtype: int64"
      ]
     },
     "execution_count": 83,
     "metadata": {},
     "output_type": "execute_result"
    }
   ],
   "source": [
    "df_2[\"l3\"].value_counts()"
   ]
  },
  {
   "cell_type": "code",
   "execution_count": 89,
   "metadata": {},
   "outputs": [
    {
     "data": {
      "text/plain": [
       "Mar del Plata         130129\n",
       "Rosario                39979\n",
       "La Plata               26869\n",
       "Tigre                  26445\n",
       "Palermo                21656\n",
       "Lomas de Zamora        16196\n",
       "Morón                  14225\n",
       "Pilar                  13255\n",
       "Ituzaingó              12645\n",
       "Belgrano               12064\n",
       "Almagro                12030\n",
       "Escobar                11229\n",
       "Villa Crespo           11115\n",
       "Caballito              10475\n",
       "Moreno                 10377\n",
       "Córdoba                10045\n",
       "Quilmes                 9855\n",
       "La Matanza              9827\n",
       "San Isidro              9014\n",
       "General San Martín      8868\n",
       "Name: l3, dtype: int64"
      ]
     },
     "execution_count": 89,
     "metadata": {},
     "output_type": "execute_result"
    }
   ],
   "source": [
    "df_2[\"l3\"].value_counts().head(20)"
   ]
  },
  {
   "cell_type": "markdown",
   "metadata": {},
   "source": [
    "Datos geoespaciales, nos desharemos de las columnas l4, l5 y l6 (tienen demasiados datos faltantes) y para poder tener medidas de alta presición vamos a quedarnos con latitud y longitud. "
   ]
  },
  {
   "cell_type": "code",
   "execution_count": 104,
   "metadata": {},
   "outputs": [],
   "source": [
    "df_2_stripped = df_2.drop(columns=[\"l4\",\"l5\",\"l6\",\"price_period\", \"bedrooms\", \"operation_type\"])"
   ]
  },
  {
   "cell_type": "code",
   "execution_count": 105,
   "metadata": {},
   "outputs": [
    {
     "data": {
      "text/plain": [
       "id                      0\n",
       "operation_type          0\n",
       "l2                      0\n",
       "l3                  37614\n",
       "lat                101672\n",
       "lon                102737\n",
       "price                   0\n",
       "property_type           0\n",
       "rooms              356733\n",
       "bathrooms          153710\n",
       "start_date              0\n",
       "end_date                0\n",
       "created_on              0\n",
       "surface_total      395424\n",
       "surface_covered    415427\n",
       "title                  13\n",
       "description             9\n",
       "ad_type                 0\n",
       "dtype: int64"
      ]
     },
     "execution_count": 105,
     "metadata": {},
     "output_type": "execute_result"
    }
   ],
   "source": [
    "df_2_stripped.isnull().sum()"
   ]
  },
  {
   "cell_type": "code",
   "execution_count": 156,
   "metadata": {},
   "outputs": [],
   "source": [
    "df_2_stripped_2 = df_2_stripped.dropna(axis=0, subset=[\"l3\",\"rooms\",\"lat\",\"lon\",\"title\",\"description\"])"
   ]
  },
  {
   "cell_type": "markdown",
   "metadata": {},
   "source": [
    "Quedaría tratar con outliers y datos numéricos faltantes."
   ]
  },
  {
   "cell_type": "code",
   "execution_count": 157,
   "metadata": {},
   "outputs": [
    {
     "data": {
      "text/plain": [
       "id                      0\n",
       "operation_type          0\n",
       "l2                      0\n",
       "l3                      0\n",
       "lat                     0\n",
       "lon                     0\n",
       "price                   0\n",
       "property_type           0\n",
       "rooms                   0\n",
       "bathrooms           23074\n",
       "start_date              0\n",
       "end_date                0\n",
       "created_on              0\n",
       "surface_total      105122\n",
       "surface_covered     98983\n",
       "title                   0\n",
       "description             0\n",
       "ad_type                 0\n",
       "dtype: int64"
      ]
     },
     "execution_count": 157,
     "metadata": {},
     "output_type": "execute_result"
    }
   ],
   "source": [
    "df_2_stripped_2.isnull().sum()"
   ]
  },
  {
   "cell_type": "code",
   "execution_count": 158,
   "metadata": {
    "scrolled": true
   },
   "outputs": [
    {
     "data": {
      "text/html": [
       "<div>\n",
       "<style scoped>\n",
       "    .dataframe tbody tr th:only-of-type {\n",
       "        vertical-align: middle;\n",
       "    }\n",
       "\n",
       "    .dataframe tbody tr th {\n",
       "        vertical-align: top;\n",
       "    }\n",
       "\n",
       "    .dataframe thead th {\n",
       "        text-align: right;\n",
       "    }\n",
       "</style>\n",
       "<table border=\"1\" class=\"dataframe\">\n",
       "  <thead>\n",
       "    <tr style=\"text-align: right;\">\n",
       "      <th></th>\n",
       "      <th>lat</th>\n",
       "      <th>lon</th>\n",
       "      <th>price</th>\n",
       "      <th>rooms</th>\n",
       "      <th>bathrooms</th>\n",
       "      <th>surface_total</th>\n",
       "      <th>surface_covered</th>\n",
       "    </tr>\n",
       "  </thead>\n",
       "  <tbody>\n",
       "    <tr>\n",
       "      <th>count</th>\n",
       "      <td>291411.000000</td>\n",
       "      <td>291411.000000</td>\n",
       "      <td>2.914110e+05</td>\n",
       "      <td>291411.000000</td>\n",
       "      <td>268337.000000</td>\n",
       "      <td>186289.000000</td>\n",
       "      <td>192428.000000</td>\n",
       "    </tr>\n",
       "    <tr>\n",
       "      <th>mean</th>\n",
       "      <td>-34.677809</td>\n",
       "      <td>-58.947811</td>\n",
       "      <td>2.467013e+05</td>\n",
       "      <td>2.964720</td>\n",
       "      <td>1.599060</td>\n",
       "      <td>245.096586</td>\n",
       "      <td>120.935867</td>\n",
       "    </tr>\n",
       "    <tr>\n",
       "      <th>std</th>\n",
       "      <td>1.530090</td>\n",
       "      <td>1.920913</td>\n",
       "      <td>1.852720e+07</td>\n",
       "      <td>1.681618</td>\n",
       "      <td>0.934408</td>\n",
       "      <td>2338.495739</td>\n",
       "      <td>1380.890644</td>\n",
       "    </tr>\n",
       "    <tr>\n",
       "      <th>min</th>\n",
       "      <td>-54.814938</td>\n",
       "      <td>-180.000000</td>\n",
       "      <td>1.000000e+00</td>\n",
       "      <td>1.000000</td>\n",
       "      <td>1.000000</td>\n",
       "      <td>-2.000000</td>\n",
       "      <td>1.000000</td>\n",
       "    </tr>\n",
       "    <tr>\n",
       "      <th>25%</th>\n",
       "      <td>-34.704455</td>\n",
       "      <td>-58.617063</td>\n",
       "      <td>9.000000e+04</td>\n",
       "      <td>2.000000</td>\n",
       "      <td>1.000000</td>\n",
       "      <td>48.000000</td>\n",
       "      <td>44.000000</td>\n",
       "    </tr>\n",
       "    <tr>\n",
       "      <th>50%</th>\n",
       "      <td>-34.604261</td>\n",
       "      <td>-58.450006</td>\n",
       "      <td>1.400000e+05</td>\n",
       "      <td>3.000000</td>\n",
       "      <td>1.000000</td>\n",
       "      <td>76.000000</td>\n",
       "      <td>67.000000</td>\n",
       "    </tr>\n",
       "    <tr>\n",
       "      <th>75%</th>\n",
       "      <td>-34.553921</td>\n",
       "      <td>-58.396789</td>\n",
       "      <td>2.390000e+05</td>\n",
       "      <td>4.000000</td>\n",
       "      <td>2.000000</td>\n",
       "      <td>150.000000</td>\n",
       "      <td>118.000000</td>\n",
       "    </tr>\n",
       "    <tr>\n",
       "      <th>max</th>\n",
       "      <td>85.051129</td>\n",
       "      <td>-4.496101</td>\n",
       "      <td>1.000000e+10</td>\n",
       "      <td>40.000000</td>\n",
       "      <td>20.000000</td>\n",
       "      <td>190000.000000</td>\n",
       "      <td>235000.000000</td>\n",
       "    </tr>\n",
       "  </tbody>\n",
       "</table>\n",
       "</div>"
      ],
      "text/plain": [
       "                 lat            lon         price          rooms  \\\n",
       "count  291411.000000  291411.000000  2.914110e+05  291411.000000   \n",
       "mean      -34.677809     -58.947811  2.467013e+05       2.964720   \n",
       "std         1.530090       1.920913  1.852720e+07       1.681618   \n",
       "min       -54.814938    -180.000000  1.000000e+00       1.000000   \n",
       "25%       -34.704455     -58.617063  9.000000e+04       2.000000   \n",
       "50%       -34.604261     -58.450006  1.400000e+05       3.000000   \n",
       "75%       -34.553921     -58.396789  2.390000e+05       4.000000   \n",
       "max        85.051129      -4.496101  1.000000e+10      40.000000   \n",
       "\n",
       "           bathrooms  surface_total  surface_covered  \n",
       "count  268337.000000  186289.000000    192428.000000  \n",
       "mean        1.599060     245.096586       120.935867  \n",
       "std         0.934408    2338.495739      1380.890644  \n",
       "min         1.000000      -2.000000         1.000000  \n",
       "25%         1.000000      48.000000        44.000000  \n",
       "50%         1.000000      76.000000        67.000000  \n",
       "75%         2.000000     150.000000       118.000000  \n",
       "max        20.000000  190000.000000    235000.000000  "
      ]
     },
     "execution_count": 158,
     "metadata": {},
     "output_type": "execute_result"
    }
   ],
   "source": [
    "df_2_stripped_2.describe()"
   ]
  },
  {
   "cell_type": "code",
   "execution_count": 159,
   "metadata": {},
   "outputs": [],
   "source": [
    "df_2_stripped_3 = df_2_stripped_2[df_2_stripped_2[\"rooms\"]<15]\n",
    "df_2_stripped_3 = df_2_stripped_3[df_2_stripped_3[\"bathrooms\"]<10]\n",
    "df_2_stripped_3 = df_2_stripped_3[df_2_stripped_3[\"surface_total\"]<1000]\n",
    "df_2_stripped_3 = df_2_stripped_3[df_2_stripped_3[\"surface_covered\"]<1000]\n",
    "df_2_stripped_3 = df_2_stripped_3[df_2_stripped_3[\"surface_total\"]>10]\n",
    "df_2_stripped_3 = df_2_stripped_3[df_2_stripped_3[\"surface_covered\"]>10]"
   ]
  },
  {
   "cell_type": "code",
   "execution_count": 160,
   "metadata": {},
   "outputs": [
    {
     "data": {
      "text/plain": [
       "(168357, 18)"
      ]
     },
     "execution_count": 160,
     "metadata": {},
     "output_type": "execute_result"
    }
   ],
   "source": [
    "df_2_stripped_3.shape"
   ]
  },
  {
   "cell_type": "code",
   "execution_count": 161,
   "metadata": {},
   "outputs": [
    {
     "data": {
      "text/plain": [
       "id                 0\n",
       "operation_type     0\n",
       "l2                 0\n",
       "l3                 0\n",
       "lat                0\n",
       "lon                0\n",
       "price              0\n",
       "property_type      0\n",
       "rooms              0\n",
       "bathrooms          0\n",
       "start_date         0\n",
       "end_date           0\n",
       "created_on         0\n",
       "surface_total      0\n",
       "surface_covered    0\n",
       "title              0\n",
       "description        0\n",
       "ad_type            0\n",
       "dtype: int64"
      ]
     },
     "execution_count": 161,
     "metadata": {},
     "output_type": "execute_result"
    }
   ],
   "source": [
    "df_2_stripped_3.isnull().sum()"
   ]
  },
  {
   "cell_type": "code",
   "execution_count": 162,
   "metadata": {},
   "outputs": [],
   "source": [
    "df_2_stripped_3.to_csv(r'propiedades_arg_clean.csv', index = False)"
   ]
  },
  {
   "cell_type": "code",
   "execution_count": 3,
   "metadata": {},
   "outputs": [
    {
     "data": {
      "text/plain": [
       "Index(['id', 'operation_type', 'l2', 'l3', 'lat', 'lon', 'price',\n",
       "       'property_type', 'rooms', 'bathrooms', 'start_date', 'end_date',\n",
       "       'created_on', 'surface_total', 'surface_covered', 'title',\n",
       "       'description', 'ad_type'],\n",
       "      dtype='object')"
      ]
     },
     "execution_count": 3,
     "metadata": {},
     "output_type": "execute_result"
    }
   ],
   "source": [
    "import pandas as pd\n",
    "pd.read_csv(\"propiedades_arg_clean.csv\").columns"
   ]
  }
 ],
 "metadata": {
  "kernelspec": {
   "display_name": "Python 3",
   "language": "python",
   "name": "python3"
  },
  "language_info": {
   "codemirror_mode": {
    "name": "ipython",
    "version": 3
   },
   "file_extension": ".py",
   "mimetype": "text/x-python",
   "name": "python",
   "nbconvert_exporter": "python",
   "pygments_lexer": "ipython3",
   "version": "3.7.6"
  },
  "pycharm": {
   "stem_cell": {
    "cell_type": "raw",
    "metadata": {
     "collapsed": false
    },
    "source": [
     "\n"
    ]
   }
  }
 },
 "nbformat": 4,
 "nbformat_minor": 1
}
